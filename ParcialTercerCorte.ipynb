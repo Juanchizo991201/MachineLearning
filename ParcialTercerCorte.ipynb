{
  "nbformat": 4,
  "nbformat_minor": 0,
  "metadata": {
    "colab": {
      "name": "Copia de Parcial_3_ML_MNIST.ipynb",
      "provenance": [],
      "collapsed_sections": []
    },
    "kernelspec": {
      "name": "python3",
      "display_name": "Python 3"
    },
    "language_info": {
      "name": "python"
    }
  },
  "cells": [
    {
      "source": [
        "<div> \n",
        "<img src=\"https://res-5.cloudinary.com/crunchbase-production/image/upload/c_lpad,h_256,w_256,f_auto,q_auto:eco/v1455514364/pim02bzqvgz0hibsra41.png\" align=\"right\"><br><br><FONT FACE=\"Victor Mono\" SIZE=4>\n",
        "<b> Universidad Sergio Arboleda</b>\n",
        "<br>\n",
        "<b> <FONT FACE=\"Victor Mono\" SIZE=2> Escuela de Ciencias Exactas e Ingeniería</b>\n",
        "<br>\n",
        "<b>Machine Learning</b> - <i>Camilo Rodriguez</i>\n",
        "<br>\n",
        "<b>Parcial Tercer Corte</b>\n",
        "<br>\n",
        "<b>Autor</b> - <i>Juan José Montenegro Pulido</i>\n",
        "<br>\n",
        "<b>Correo</b> - <i>juan.montenegro@correo.usa.edu.co</i>\n",
        "</FONT>\n",
        "</div>"
      ],
      "cell_type": "markdown",
      "metadata": {}
    },
    {
      "cell_type": "markdown",
      "metadata": {
        "id": "J56vvo_8c9pX"
      },
      "source": [
        "#**1. Exploración inicial**"
      ]
    },
    {
      "cell_type": "code",
      "metadata": {
        "id": "12uxgsx7R04R"
      },
      "source": [
        "# Importación las bibliotecas necesarias:\n",
        "import numpy as np\n",
        "from google.colab import output\n",
        "import matplotlib.pyplot as plt\n",
        "from sklearn.metrics import accuracy_score\n",
        "from pandas.plotting import scatter_matrix\n",
        "from sklearn.model_selection import train_test_split, GridSearchCV, cross_val_score\n",
        "from sklearn.preprocessing import MinMaxScaler\n",
        "from sklearn.pipeline import Pipeline\n",
        "from sklearn.linear_model import LogisticRegression\n",
        "from sklearn.svm import SVC\n",
        "from sklearn.ensemble import RandomForestClassifier\n",
        "from sklearn.neural_network import MLPClassifier\n",
        "from matplotlib.pyplot import imshow\n",
        "import tensorflow as tf\n",
        "from tensorflow import keras\n",
        "from scipy.io import loadmat"
      ],
      "execution_count": null,
      "outputs": []
    },
    {
      "cell_type": "code",
      "metadata": {
        "id": "DKdrp9q0oZYz"
      },
      "source": [
        "#Se exporta el archivo mat y se lee con libreria loadmat\n",
        "mnist = loadmat(\"/content/mnist-original.mat\")"
      ],
      "execution_count": null,
      "outputs": []
    },
    {
      "cell_type": "code",
      "metadata": {
        "id": "QW5aJZnEF_Gk"
      },
      "source": [
        "!wget = "
      ],
      "execution_count": null,
      "outputs": []
    },
    {
      "cell_type": "code",
      "metadata": {
        "colab": {
          "base_uri": "https://localhost:8080/"
        },
        "id": "bIvj7u1SnUPq",
        "outputId": "7d78fd9f-a7e1-4d9b-ea38-c3cec8973bf4"
      },
      "source": [
        "# Se requiere el diccionario que posee los datos, imagenes.\n",
        "mnist"
      ],
      "execution_count": null,
      "outputs": [
        {
          "output_type": "execute_result",
          "data": {
            "text/plain": [
              "{'__globals__': [],\n",
              " '__header__': b'MATLAB 5.0 MAT-file Platform: posix, Created on: Sun Mar 30 03:19:02 2014',\n",
              " '__version__': '1.0',\n",
              " 'data': array([[0, 0, 0, ..., 0, 0, 0],\n",
              "        [0, 0, 0, ..., 0, 0, 0],\n",
              "        [0, 0, 0, ..., 0, 0, 0],\n",
              "        ...,\n",
              "        [0, 0, 0, ..., 0, 0, 0],\n",
              "        [0, 0, 0, ..., 0, 0, 0],\n",
              "        [0, 0, 0, ..., 0, 0, 0]], dtype=uint8),\n",
              " 'label': array([[0., 0., 0., ..., 9., 9., 9.]]),\n",
              " 'mldata_descr_ordering': array([[array(['label'], dtype='<U5'), array(['data'], dtype='<U4')]],\n",
              "       dtype=object)}"
            ]
          },
          "metadata": {
            "tags": []
          },
          "execution_count": 28
        }
      ]
    },
    {
      "cell_type": "code",
      "metadata": {
        "colab": {
          "base_uri": "https://localhost:8080/"
        },
        "id": "I5d9_yzno7dc",
        "outputId": "d755479b-28e1-4481-82b8-638603350cc7"
      },
      "source": [
        "#Se observa el tamaño del diccionario\n",
        "len(mnist)"
      ],
      "execution_count": null,
      "outputs": [
        {
          "output_type": "execute_result",
          "data": {
            "text/plain": [
              "6"
            ]
          },
          "metadata": {
            "tags": []
          },
          "execution_count": 29
        }
      ]
    },
    {
      "cell_type": "code",
      "metadata": {
        "colab": {
          "base_uri": "https://localhost:8080/"
        },
        "id": "8WxBs3Ukprvu",
        "outputId": "241bece5-d59c-4191-e73d-18ff6108846a"
      },
      "source": [
        "#Observamos la variable que posee el diccionario\n",
        "list(mnist)"
      ],
      "execution_count": null,
      "outputs": [
        {
          "output_type": "execute_result",
          "data": {
            "text/plain": [
              "['__header__',\n",
              " '__version__',\n",
              " '__globals__',\n",
              " 'mldata_descr_ordering',\n",
              " 'data',\n",
              " 'label']"
            ]
          },
          "metadata": {
            "tags": []
          },
          "execution_count": 30
        }
      ]
    },
    {
      "cell_type": "markdown",
      "metadata": {
        "id": "LjOe-g6xo3qu"
      },
      "source": [
        "#**2. Selección y extración de características**"
      ]
    },
    {
      "cell_type": "code",
      "metadata": {
        "id": "9VJDZYCPo3aC"
      },
      "source": [
        "#Se dividen los datos, una parte para realizar el entrenamiento y el 30% restante para realizar el test final\n",
        "X_train,X_test,y_train,y_test = train_test_split(mnist['data'].T, mnist['label'][0], test_size=0.3)"
      ],
      "execution_count": null,
      "outputs": []
    },
    {
      "cell_type": "code",
      "metadata": {
        "colab": {
          "base_uri": "https://localhost:8080/",
          "height": 265
        },
        "id": "3Icl4l3d5xcT",
        "outputId": "d81da85a-c370-42bb-d98b-0421b7e4d2d9"
      },
      "source": [
        "#Observamos una de las imagenes que posee MNIST aleatoriamente\n",
        "image =X_train[2000].reshape(28,28)\n",
        "plt.imshow(image,cmap=\"binary\")\n",
        "plt.show()"
      ],
      "execution_count": null,
      "outputs": [
        {
          "output_type": "display_data",
          "data": {
            "image/png": "[encoded data removed]",
            "text/plain": [
              "<Figure size 432x288 with 1 Axes>"
            ]
          },
          "metadata": {
            "tags": [],
            "needs_background": "light"
          }
        }
      ]
    },
    {
      "cell_type": "code",
      "metadata": {
        "colab": {
          "base_uri": "https://localhost:8080/"
        },
        "id": "iC-UyBzPgi_x",
        "outputId": "61e95146-1ac9-4004-f795-a59a41bc4f67"
      },
      "source": [
        "#Se observan los datos que posee la X_train\n",
        "X_train[0, :]"
      ],
      "execution_count": null,
      "outputs": [
        {
          "output_type": "execute_result",
          "data": {
            "text/plain": [
              "array([  0,   0,   0,   0,   0,   0,   0,   0,   0,   0,   0,   0,   0,\n",
              "         0,   0,   0,   0,   0,   0,   0,   0,   0,   0,   0,   0,   0,\n",
              "         0,   0,   0,   0,   0,   0,   0,   0,   0,   0,   0,   0,   0,\n",
              "         0,   0,   0,   0,   0,   0,   0,   0,   0,   0,   0,   0,   0,\n",
              "         0,   0,   0,   0,   0,   0,   0,   0,   0,   0,   0,   0,   0,\n",
              "         0,   0,   0,   0,   0,   0,   0,   0,   0,   0,   0,   0,   0,\n",
              "         0,   0,   0,   0,   0,   0,   0,   0,   0,   0,   0,   0,   0,\n",
              "         0,   0,   0,   0,   0,   0,   0,   0,   0,   0,   0,   0,   0,\n",
              "         0,   0,   0,   0,   0,   0,   0,   0,   0,   0,   0,   0,   0,\n",
              "         0,   0,   0,   0,   0,   0,   0,   0,   0,   0,   0,   0,   0,\n",
              "         0,   0,   0,   0,   0,   0,   0,   0,   0,   0,   0,   0,   0,\n",
              "         0,   0,   0,   0,   0,   0,   0,   0,   0,   0,   0,   0,   0,\n",
              "         0,   0,   0,   0,   0,   0,   0,   0,   0,   0,   0,   0,   0,\n",
              "         0,   0,   0,   0,   0,   0,   0,   0,   0,   0,   0,   0,   0,\n",
              "         0,   0,   0,   0,   0,   0,   0,   0,   0,   0,   0,   0,   0,\n",
              "         0,   0,   0,   0,   0,   0,   0,   0,   0,   0,   0,   0,   0,\n",
              "         9, 128, 149, 253, 137,  24,   3,   0,   0,   0,   0,   0,   0,\n",
              "         0,   0,   0,   0,   0,   0,   0,   0,   0,   0,   0,   0,   0,\n",
              "         9, 130, 194, 252, 253, 252, 252, 252, 117,  22,   0,   0,   0,\n",
              "         0,   0,   0,   0,   0,   0,   0,   0,   0,   0,   0,   0,   0,\n",
              "         0,  49, 197, 252, 227,  79,  69,  69, 100, 183, 246, 206,  25,\n",
              "         0,   0,   0,   0,   0,   0,   0,   0,   0,   0,   0,   0,   0,\n",
              "         0,   0,  43, 233, 252, 227,  50,   0,   0,   0,   0,  34, 238,\n",
              "       253,  92,   0,   0,   0,   0,   0,   0,   0,   0,   0,   0,   0,\n",
              "         0,   0,   0,   0, 220, 253, 252,  79,   0,   0,   0,   0,  32,\n",
              "       218, 252, 232,   8,   0,   0,   0,   0,   0,   0,   0,   0,   0,\n",
              "         0,   0,   0,   0,   0, 104, 253, 242,  42,   0,   0,   0,   0,\n",
              "        15, 138, 253, 253, 231,   0,   0,   0,   0,   0,   0,   0,   0,\n",
              "         0,   0,   0,   0,   0,   0,   0, 207, 252, 209,   0,   0,   0,\n",
              "        22, 110, 219, 252, 252, 252, 157,   0,   0,   0,   0,   0,   0,\n",
              "         0,   0,   0,   0,   0,   0,   0,   0,   0, 207, 252,  84,   0,\n",
              "         0,  26, 205, 253, 252, 252, 252, 252,  32,   0,   0,   0,   0,\n",
              "         0,   0,   0,   0,   0,   0,   0,   0,   0,   0,   0, 207, 252,\n",
              "       155, 207, 207, 224, 252, 245, 177, 252, 252, 210,   0,   0,   0,\n",
              "         0,   0,   0,   0,   0,   0,   0,   0,   0,   0,   0,   0,   0,\n",
              "        61, 242, 253, 252, 252, 252, 147,  21,  99, 252, 252,  85,   0,\n",
              "         0,   0,   0,   0,   0,   0,   0,   0,   0,   0,   0,   0,   0,\n",
              "         0,   0,   0,  53, 127, 230, 146,  74,   0,   0, 162, 253, 245,\n",
              "        21,   0,   0,   0,   0,   0,   0,   0,   0,   0,   0,   0,   0,\n",
              "         0,   0,   0,   0,   0,   0,   0,   0,   0,   0,   0,  15, 219,\n",
              "       252, 139,   0,   0,   0,   0,   0,   0,   0,   0,   0,   0,   0,\n",
              "         0,   0,   0,   0,   0,   0,   0,   0,   0,   0,   0,   0,   0,\n",
              "        55, 252, 233,  33,   0,   0,   0,   0,   0,   0,   0,   0,   0,\n",
              "         0,   0,   0,   0,   0,   0,   0,   0,   0,   0,   0,   0,   0,\n",
              "         0,   0, 180, 252, 183,   0,   0,   0,   0,   0,   0,   0,   0,\n",
              "         0,   0,   0,   0,   0,   0,   0,   0,   0,   0,   0,   0,   0,\n",
              "         0,   0,   0,   0, 253, 252,  79,   0,   0,   0,   0,   0,   0,\n",
              "         0,   0,   0,   0,   0,   0,   0,   0,   0,   0,   0,   0,   0,\n",
              "         0,   0,   0,   0,   0,  64, 255,  92,   0,   0,   0,   0,   0,\n",
              "         0,   0,   0,   0,   0,   0,   0,   0,   0,   0,   0,   0,   0,\n",
              "         0,   0,   0,   0,   0,   0,   0, 116, 253,  92,   0,   0,   0,\n",
              "         0,   0,   0,   0,   0,   0,   0,   0,   0,   0,   0,   0,   0,\n",
              "         0,   0,   0,   0,   0,   0,   0,   0,   0, 146, 253,  92,   0,\n",
              "         0,   0,   0,   0,   0,   0,   0,   0,   0,   0,   0,   0,   0,\n",
              "         0,   0,   0,   0,   0,   0,   0,   0,   0,   0,   0, 230, 203,\n",
              "        58,   0,   0,   0,   0,   0,   0,   0,   0,   0,   0,   0,   0,\n",
              "         0,   0,   0,   0,   0,   0,   0,   0,   0,   0,   0,   0,   0,\n",
              "       126,  11,   0,   0,   0,   0,   0,   0,   0,   0,   0,   0,   0,\n",
              "         0,   0,   0,   0,   0,   0,   0,   0,   0,   0,   0,   0,   0,\n",
              "         0,   0,   0,   0,   0,   0,   0,   0,   0,   0,   0,   0,   0,\n",
              "         0,   0,   0,   0], dtype=uint8)"
            ]
          },
          "metadata": {
            "tags": []
          },
          "execution_count": 33
        }
      ]
    },
    {
      "cell_type": "code",
      "metadata": {
        "colab": {
          "base_uri": "https://localhost:8080/"
        },
        "id": "rIV_k9AHg2PF",
        "outputId": "8e1b72c3-30d4-4b0e-b490-87ef6a3da120"
      },
      "source": [
        "#Se observan los datos que posee la y_train\n",
        "y_train[:20]"
      ],
      "execution_count": null,
      "outputs": [
        {
          "output_type": "execute_result",
          "data": {
            "text/plain": [
              "array([9., 4., 4., 5., 1., 2., 1., 6., 5., 2., 0., 9., 8., 9., 3., 8., 3.,\n",
              "       8., 3., 1.])"
            ]
          },
          "metadata": {
            "tags": []
          },
          "execution_count": 34
        }
      ]
    },
    {
      "cell_type": "code",
      "metadata": {
        "id": "C2fyU_rqypoX"
      },
      "source": [
        "pipe_train = Pipeline([('scaler', MinMaxScaler())])\n",
        "entrenados_X_train = pipe_train.fit_transform(X_train)"
      ],
      "execution_count": null,
      "outputs": []
    },
    {
      "cell_type": "markdown",
      "metadata": {
        "id": "ekpzgqDdpVjQ"
      },
      "source": [
        "# **3. Evaluación y selección de modelos**"
      ]
    },
    {
      "cell_type": "markdown",
      "metadata": {
        "id": "b5CoJy_93LZY"
      },
      "source": [
        "    Regresión Logistica"
      ]
    },
    {
      "cell_type": "code",
      "metadata": {
        "id": "LXDOJqZOd2tx",
        "colab": {
          "base_uri": "https://localhost:8080/"
        },
        "outputId": "cfb858f0-3ca2-47bf-f618-28ba8d23b491"
      },
      "source": [
        "#Se crea el clasificador de Regresión Logistica y se define las partes del KCROSS FOLD VALIDATION para evaluar.\n",
        "clfL = LogisticRegression()\n",
        "cvsL = cross_val_score(clfL,X_train[:2500],y_train[:2500],cv=10)\n",
        "output.clear()\n",
        "#Entrenamos el sistema con el clasificador definido (clfL).\n",
        "logistica_fit = clfL.fit(X_train[:2500],y_train[:2500])\n",
        "output.clear()\n",
        "#Se imprimen datos estadisticos como la media y el estandar.\n",
        "print('La media para este clasificador es: ',np.mean(cvsL))\n",
        "print('La desviación estandar de este clasificador es:',np.std(cvsL))\n",
        "#Se imprime el cvs y se observan las iteraciones realizadas.\n",
        "print('Resultado de las 10 iteraciones realizadas: \\n',cvsL)"
      ],
      "execution_count": null,
      "outputs": [
        {
          "output_type": "stream",
          "text": [
            "La media para este clasificador es:  0.8548\n",
            "La desviación estandar de este clasificador es: 0.017440183485273326\n",
            "Resultado de las 10 iteraciones realizadas: \n",
            " [0.864 0.872 0.836 0.84  0.836 0.888 0.86  0.856 0.864 0.832]\n"
          ],
          "name": "stdout"
        }
      ]
    },
    {
      "cell_type": "code",
      "metadata": {
        "colab": {
          "base_uri": "https://localhost:8080/"
        },
        "id": "yAtAybTP6Ing",
        "outputId": "ff34f311-e1a1-4d4e-c2d3-a97c6c13dca6"
      },
      "source": [
        "#Con ayuda de la variable predict se llega a unos datos futuros, los cuales nos dan un resultado aproximado del resultado y conocido\n",
        "y_predict_L = clfL.predict(X_train)\n",
        "\n",
        "#La variable ACCURACY nos da a conocer la exactitud entre la variable conocida (y_train) y la variable que se predijo anteriormente (y_predict_L)\n",
        "A_L = accuracy_score(y_train,y_predict_L)\n",
        "print('Accuracy: ',A_L)"
      ],
      "execution_count": null,
      "outputs": [
        {
          "output_type": "stream",
          "text": [
            "Accuracy:  0.8719183673469387\n"
          ],
          "name": "stdout"
        }
      ]
    },
    {
      "cell_type": "markdown",
      "metadata": {
        "id": "21bw6bNH3S6S"
      },
      "source": [
        "    Vectores de soporte"
      ]
    },
    {
      "cell_type": "code",
      "metadata": {
        "colab": {
          "base_uri": "https://localhost:8080/"
        },
        "id": "BUqzk-it1NnQ",
        "outputId": "ef8085c3-ebd2-4db1-fc4c-b2f410d6ed81"
      },
      "source": [
        "#Se crea el clasificador de Vectores de soporte y se define las partes del KCROSS FOLD VALIDATION para evaluar.\n",
        "svc = SVC()\n",
        "cvs_svc = cross_val_score(svc,X_train[:2500],y_train[:2500],cv=10)\n",
        "#Se imprimen datos estadisticos como la media y el estandar.\n",
        "print('La media para este clasificador es: ',np.mean(cvs_svc))\n",
        "print('La desviación estandar de este clasificador es:',np.std(cvs_svc))\n",
        "#Se imprime el cvs y se observan las iteraciones realizadas.\n",
        "print('Resultado de las 10 iteraciones realizadas: \\n',cvs_svc)\n",
        "#Entrenamos el sistema con el clasificador definido.\n",
        "svc_fit = svc.fit(X_train[:2500],y_train[:2500])"
      ],
      "execution_count": null,
      "outputs": [
        {
          "output_type": "stream",
          "text": [
            "La media para este clasificador es:  0.9364000000000001\n",
            "La desviación estandar de este clasificador es: 0.013078226179417413\n",
            "Resultado de las 10 iteraciones realizadas: \n",
            " [0.948 0.944 0.92  0.928 0.92  0.952 0.96  0.928 0.932 0.932]\n"
          ],
          "name": "stdout"
        }
      ]
    },
    {
      "cell_type": "code",
      "metadata": {
        "colab": {
          "base_uri": "https://localhost:8080/"
        },
        "id": "7gs0MiRzzv1y",
        "outputId": "d9717f03-eeca-4558-edf2-15e1e28b2a14"
      },
      "source": [
        "#Con ayuda de la variable predict se llega a unos datos futuros, los cuales nos dan un resultado aproximado del resultado y conocido\n",
        "y_predict_SVC = svc.predict(X_train[:2500])\n",
        "\n",
        "#La variable ACCURACY nos da a conocer la exactitud entre la variable conocida (y_train) y la variable que se predijo anteriormente (y_predict_SVC)\n",
        "A_SVC = accuracy_score(y_train[:2500],y_predict_SVC)\n",
        "print('Accuaracy: ',A_SVC)"
      ],
      "execution_count": null,
      "outputs": [
        {
          "output_type": "stream",
          "text": [
            "Accuaracy:  0.9812\n"
          ],
          "name": "stdout"
        }
      ]
    },
    {
      "cell_type": "markdown",
      "metadata": {
        "id": "Ssuebv7k3WxA"
      },
      "source": [
        "    Random Forest"
      ]
    },
    {
      "cell_type": "code",
      "metadata": {
        "colab": {
          "base_uri": "https://localhost:8080/"
        },
        "id": "0CsKoSPm3tB9",
        "outputId": "f6bae257-1220-4555-e9b2-46868842e162"
      },
      "source": [
        "#Se crea el clasificador de Random Forest y se define las partes del KCROSS FOLD VALIDATION para evaluar.\n",
        "forest = RandomForestClassifier()\n",
        "cvs_forest = cross_val_score(forest,X_train[:2500],y_train[:2500],cv=10)\n",
        "#Se imprimen datos estadisticos como la media y el estandar.\n",
        "print('La media para este clasificador es: ',np.mean(cvs_forest))\n",
        "print('La desviación estandar de este clasificador es:',np.std(cvs_forest))\n",
        "#Se imprime el cvs y se observan las iteraciones realizadas.\n",
        "print('Resultado de las 10 iteraciones realizadas: \\n',cvs_forest)\n",
        "#Entrenamos el sistema con el clasificador definido.\n",
        "forest_fit = forest.fit(X_train[:2500],y_train[:2500])"
      ],
      "execution_count": null,
      "outputs": [
        {
          "output_type": "stream",
          "text": [
            "La media para este clasificador es:  0.9212\n",
            "La desviación estandar de este clasificador es: 0.011461239025515496\n",
            "Resultado de las 10 iteraciones realizadas: \n",
            " [0.94  0.924 0.908 0.924 0.912 0.912 0.928 0.94  0.916 0.908]\n"
          ],
          "name": "stdout"
        }
      ]
    },
    {
      "cell_type": "code",
      "metadata": {
        "colab": {
          "base_uri": "https://localhost:8080/"
        },
        "id": "zmIcZv6J0Vjc",
        "outputId": "0a828356-1b89-45ad-a7f9-469d6184d310"
      },
      "source": [
        "#Con ayuda de la variable predict se llega a unos datos futuros, los cuales nos dan un resultado aproximado del resultado y conocido\n",
        "y_predict_forest = forest.predict(X_train[:2500])\n",
        "\n",
        "#La variable ACCURACY nos da a conocer la exactitud entre la variable conocida (y_train) y la variable que se predijo anteriormente (y_predict_forest)\n",
        "A_forest = accuracy_score(y_train[:2500],y_predict_forest)\n",
        "print('Accuaracy: ',A_forest)"
      ],
      "execution_count": null,
      "outputs": [
        {
          "output_type": "stream",
          "text": [
            "Accuaracy:  1.0\n"
          ],
          "name": "stdout"
        }
      ]
    },
    {
      "cell_type": "markdown",
      "metadata": {
        "id": "TybO16oJ3ixA"
      },
      "source": [
        "    Redes neuronales"
      ]
    },
    {
      "cell_type": "code",
      "metadata": {
        "colab": {
          "base_uri": "https://localhost:8080/"
        },
        "id": "IeTXbw5e307h",
        "outputId": "e296b925-da6a-4d36-eee6-21a7195b9b03"
      },
      "source": [
        "#Se crea el clasificador de Redes neuronales y se define las partes del KCROSS FOLD VALIDATION para evaluar.\n",
        "clf = MLPClassifier()\n",
        "cvs_redes = cross_val_score(clf,X_train[:2500],y_train[:2500],cv=10)\n",
        "#Se imprimen datos estadisticos como la media y el estandar.\n",
        "print('La media para este clasificador es: ',np.mean(cvs_redes))\n",
        "print('La desviación estandar de este clasificador es:',np.std(cvs_redes))\n",
        "#Se imprime el cvs y se observan las iteraciones realizadas.\n",
        "print('Resultado de las 10 iteraciones realizadas: \\n',cvs_redes)\n",
        "#Entrenamos el sistema con el clasificador definido.\n",
        "redes_fit = clf.fit(X_train[:2500],y_train[:2500])"
      ],
      "execution_count": null,
      "outputs": [
        {
          "output_type": "stream",
          "text": [
            "La media para este clasificador es:  0.8475999999999999\n",
            "La desviación estandar de este clasificador es: 0.015435025105259804\n",
            "Resultado de las 10 iteraciones realizadas: \n",
            " [0.868 0.852 0.828 0.86  0.844 0.856 0.868 0.82  0.844 0.836]\n"
          ],
          "name": "stdout"
        }
      ]
    },
    {
      "cell_type": "code",
      "metadata": {
        "colab": {
          "base_uri": "https://localhost:8080/"
        },
        "id": "Xca2GEhY0kyr",
        "outputId": "9e86fcd8-dc08-4c67-c83d-e68ae3c07629"
      },
      "source": [
        "#Con ayuda de la variable predict se llega a unos datos futuros, los cuales nos dan un resultado aproximado del resultado y conocido\n",
        "y_predict_redes = clf.predict(X_train[:2500])\n",
        "\n",
        "#La variable ACCURACY nos da a conocer la exactitud entre la variable conocida (y_train) y la variable que se predijo anteriormente (y_predict_redes)\n",
        "A_redes = accuracy_score(y_train[:2500],y_predict_redes)\n",
        "print('Accuaracy: ',A_redes)"
      ],
      "execution_count": null,
      "outputs": [
        {
          "output_type": "stream",
          "text": [
            "Accuaracy:  1.0\n"
          ],
          "name": "stdout"
        }
      ]
    },
    {
      "cell_type": "markdown",
      "metadata": {
        "id": "tjTKK5X63yKG"
      },
      "source": [
        "    Redes neuronales con keras"
      ]
    },
    {
      "cell_type": "code",
      "metadata": {
        "id": "wYEybUYQ5v0p"
      },
      "source": [
        "model = keras.Sequential()\n",
        "\n",
        "model.add(keras.layers.Flatten(input_shape=(28,28), name='input')) \n",
        "\n",
        "model.add(keras.layers.Dense(300, activation='relu', name='hidden1')) \n",
        "model.add(keras.layers.Dense(100, activation='relu', name='hidden2')) \n",
        "\n",
        "model.add(keras.layers.Dense(10, activation='softmax', name='output')) \n",
        "\n",
        "model.compile(optimizer='adam', loss=keras.losses.sparse_categorical_crossentropy, metrics='accuracy')"
      ],
      "execution_count": null,
      "outputs": []
    },
    {
      "cell_type": "code",
      "metadata": {
        "id": "l_7iwYrMp2_O",
        "colab": {
          "base_uri": "https://localhost:8080/"
        },
        "outputId": "34aaaeac-aeea-43cf-a685-51d0a894c598"
      },
      "source": [
        "model.summary()"
      ],
      "execution_count": null,
      "outputs": [
        {
          "output_type": "stream",
          "text": [
            "Model: \"sequential_2\"\n",
            "_________________________________________________________________\n",
            "Layer (type)                 Output Shape              Param #   \n",
            "=================================================================\n",
            "input (Flatten)              (None, 784)               0         \n",
            "_________________________________________________________________\n",
            "hidden1 (Dense)              (None, 300)               235500    \n",
            "_________________________________________________________________\n",
            "hidden2 (Dense)              (None, 100)               30100     \n",
            "_________________________________________________________________\n",
            "output (Dense)               (None, 10)                1010      \n",
            "=================================================================\n",
            "Total params: 266,610\n",
            "Trainable params: 266,610\n",
            "Non-trainable params: 0\n",
            "_________________________________________________________________\n"
          ],
          "name": "stdout"
        }
      ]
    },
    {
      "cell_type": "code",
      "metadata": {
        "id": "ASeck1dGp2Ox",
        "colab": {
          "base_uri": "https://localhost:8080/"
        },
        "outputId": "d2556bc8-2690-402f-f9fb-1780d46761a8"
      },
      "source": [
        "model.fit(entrenados_X_train, y_train, validation_split=0.3, epochs=20) # Entrenando el modelo e imprimiendo métricas"
      ],
      "execution_count": null,
      "outputs": [
        {
          "output_type": "stream",
          "text": [
            "Epoch 1/20\n",
            "WARNING:tensorflow:Model was constructed with shape (None, 28, 28) for input KerasTensor(type_spec=TensorSpec(shape=(None, 28, 28), dtype=tf.float32, name='input_input'), name='input_input', description=\"created by layer 'input_input'\"), but it was called on an input with incompatible shape (None, 784).\n",
            "WARNING:tensorflow:Model was constructed with shape (None, 28, 28) for input KerasTensor(type_spec=TensorSpec(shape=(None, 28, 28), dtype=tf.float32, name='input_input'), name='input_input', description=\"created by layer 'input_input'\"), but it was called on an input with incompatible shape (None, 784).\n",
            "1067/1072 [============================>.] - ETA: 0s - loss: 0.2537 - accuracy: 0.9239WARNING:tensorflow:Model was constructed with shape (None, 28, 28) for input KerasTensor(type_spec=TensorSpec(shape=(None, 28, 28), dtype=tf.float32, name='input_input'), name='input_input', description=\"created by layer 'input_input'\"), but it was called on an input with incompatible shape (None, 784).\n",
            "1072/1072 [==============================] - 4s 4ms/step - loss: 0.2530 - accuracy: 0.9241 - val_loss: 0.1309 - val_accuracy: 0.9618\n",
            "Epoch 2/20\n",
            "1072/1072 [==============================] - 4s 3ms/step - loss: 0.1046 - accuracy: 0.9681 - val_loss: 0.1072 - val_accuracy: 0.9690\n",
            "Epoch 3/20\n",
            "1072/1072 [==============================] - 4s 3ms/step - loss: 0.0673 - accuracy: 0.9778 - val_loss: 0.1083 - val_accuracy: 0.9673\n",
            "Epoch 4/20\n",
            "1072/1072 [==============================] - 4s 3ms/step - loss: 0.0476 - accuracy: 0.9845 - val_loss: 0.1030 - val_accuracy: 0.9688\n",
            "Epoch 5/20\n",
            "1072/1072 [==============================] - 4s 3ms/step - loss: 0.0385 - accuracy: 0.9876 - val_loss: 0.0959 - val_accuracy: 0.9743\n",
            "Epoch 6/20\n",
            "1072/1072 [==============================] - 4s 3ms/step - loss: 0.0307 - accuracy: 0.9895 - val_loss: 0.0859 - val_accuracy: 0.9773\n",
            "Epoch 7/20\n",
            "1072/1072 [==============================] - 4s 3ms/step - loss: 0.0217 - accuracy: 0.9926 - val_loss: 0.1410 - val_accuracy: 0.9654\n",
            "Epoch 8/20\n",
            "1072/1072 [==============================] - 4s 3ms/step - loss: 0.0230 - accuracy: 0.9926 - val_loss: 0.1137 - val_accuracy: 0.9724\n",
            "Epoch 9/20\n",
            "1072/1072 [==============================] - 4s 3ms/step - loss: 0.0172 - accuracy: 0.9943 - val_loss: 0.1074 - val_accuracy: 0.9746\n",
            "Epoch 10/20\n",
            "1072/1072 [==============================] - 4s 3ms/step - loss: 0.0187 - accuracy: 0.9938 - val_loss: 0.0931 - val_accuracy: 0.9793\n",
            "Epoch 11/20\n",
            "1072/1072 [==============================] - 4s 3ms/step - loss: 0.0145 - accuracy: 0.9954 - val_loss: 0.0906 - val_accuracy: 0.9794\n",
            "Epoch 12/20\n",
            "1072/1072 [==============================] - 4s 3ms/step - loss: 0.0135 - accuracy: 0.9960 - val_loss: 0.1368 - val_accuracy: 0.9730\n",
            "Epoch 13/20\n",
            "1072/1072 [==============================] - 4s 3ms/step - loss: 0.0129 - accuracy: 0.9957 - val_loss: 0.1174 - val_accuracy: 0.9763\n",
            "Epoch 14/20\n",
            "1072/1072 [==============================] - 4s 3ms/step - loss: 0.0097 - accuracy: 0.9971 - val_loss: 0.1164 - val_accuracy: 0.9765\n",
            "Epoch 15/20\n",
            "1072/1072 [==============================] - 4s 3ms/step - loss: 0.0161 - accuracy: 0.9948 - val_loss: 0.1280 - val_accuracy: 0.9732\n",
            "Epoch 16/20\n",
            "1072/1072 [==============================] - 4s 3ms/step - loss: 0.0110 - accuracy: 0.9961 - val_loss: 0.1756 - val_accuracy: 0.9698\n",
            "Epoch 17/20\n",
            "1072/1072 [==============================] - 4s 3ms/step - loss: 0.0099 - accuracy: 0.9969 - val_loss: 0.1211 - val_accuracy: 0.9795\n",
            "Epoch 18/20\n",
            "1072/1072 [==============================] - 4s 3ms/step - loss: 0.0111 - accuracy: 0.9970 - val_loss: 0.1373 - val_accuracy: 0.9771\n",
            "Epoch 19/20\n",
            "1072/1072 [==============================] - 4s 3ms/step - loss: 0.0109 - accuracy: 0.9965 - val_loss: 0.1170 - val_accuracy: 0.9797\n",
            "Epoch 20/20\n",
            "1072/1072 [==============================] - 4s 4ms/step - loss: 0.0080 - accuracy: 0.9975 - val_loss: 0.1183 - val_accuracy: 0.9807\n"
          ],
          "name": "stdout"
        },
        {
          "output_type": "execute_result",
          "data": {
            "text/plain": [
              "<tensorflow.python.keras.callbacks.History at 0x7f705df21650>"
            ]
          },
          "metadata": {
            "tags": []
          },
          "execution_count": 47
        }
      ]
    },
    {
      "cell_type": "markdown",
      "metadata": {
        "id": "jpNHJ1EhSFcu"
      },
      "source": [
        "#**4. Ajuste de hiperparametros**"
      ]
    },
    {
      "cell_type": "markdown",
      "metadata": {
        "id": "OZFhXJ41EW5R"
      },
      "source": [
        "    Regresión Logistica"
      ]
    },
    {
      "cell_type": "code",
      "metadata": {
        "id": "A_QrDctBmhQd",
        "colab": {
          "base_uri": "https://localhost:8080/"
        },
        "outputId": "ca4c8c1f-ab78-4bf9-de21-ce546118ca6c"
      },
      "source": [
        "#Se define la variable que se quiere analizar, con  los valores que se desean\n",
        "param_gridL = [{ 'penalty':['l1', 'l2', 'elasticnet'], 'C' : [0.001, 0.1,10]}]\n",
        "output.clear()\n",
        "\n",
        "#Evaluación de los parametros efectuados anteriormente\n",
        "gsL = GridSearchCV(clfL,param_gridL,cv=10)\n",
        "\n",
        "#Entrenamiento de las variables con los hiperparametros deseados\n",
        "gsL.fit(X_train[:2500],y_train[:2500])\n",
        "output.clear()\n",
        "\n",
        "#Nos da a conocer el mejor hiperparametro\n",
        "print(gsL.best_params_)\n"
      ],
      "execution_count": null,
      "outputs": [
        {
          "output_type": "stream",
          "text": [
            "{'C': 0.001, 'penalty': 'l2'}\n"
          ],
          "name": "stdout"
        }
      ]
    },
    {
      "cell_type": "markdown",
      "metadata": {
        "id": "2SNFNQ1JzKFF"
      },
      "source": [
        "    Vectores de soporte"
      ]
    },
    {
      "cell_type": "code",
      "metadata": {
        "colab": {
          "base_uri": "https://localhost:8080/"
        },
        "id": "SK3KEoUq9OgT",
        "outputId": "769dd36d-d27b-4fc3-df99-59178c5e75a1"
      },
      "source": [
        "#Se define la variable que se quiere analizar, con  los valores que se desean\n",
        "param_grid_SVC = [{ 'kernel':['linear', 'poly', 'rbf', 'sigmoid']}]\n",
        "#Evaluación de los parametros efectuados anteriormente\n",
        "gs_SVC = GridSearchCV(svc,param_grid_SVC,cv=10)\n",
        "\n",
        "#Entrenamiento de las variables con los hiperparametros deseados\n",
        "gs_SVC.fit(X_train[:2500],y_train[:2500])\n",
        "output.clear()\n",
        "\n",
        "#Nos da a conocer el mejor hiperparametro\n",
        "gs_SVC.best_params_"
      ],
      "execution_count": null,
      "outputs": [
        {
          "output_type": "execute_result",
          "data": {
            "text/plain": [
              "{'kernel': 'rbf'}"
            ]
          },
          "metadata": {
            "tags": []
          },
          "execution_count": 49
        }
      ]
    },
    {
      "cell_type": "markdown",
      "metadata": {
        "id": "ooDmxxuQzNO2"
      },
      "source": [
        "    Random Forest "
      ]
    },
    {
      "cell_type": "code",
      "metadata": {
        "colab": {
          "base_uri": "https://localhost:8080/"
        },
        "id": "uAuHgjl_zTbH",
        "outputId": "917eb34d-0dfd-4e2e-cf45-531adb820742"
      },
      "source": [
        "#Se define la variable que se quiere analizar, con  los valores que se desean\n",
        "param_grid_forest = [{ 'criterion':['gini', 'entropy'],'n_estimators':[3,5,10], 'max_samples' :[2,5,10]}]\n",
        "#Evaluación de los parametros efectuados anteriormente\n",
        "gs_forest = GridSearchCV(forest,param_grid_forest,cv=10)\n",
        "\n",
        "#Entrenamiento de las variables con los hiperparametros deseados\n",
        "gs_forest.fit(X_train[:2500],y_train[:2500])\n",
        "output.clear()\n",
        "\n",
        "#Nos da a conocer el mejor hiperparametro\n",
        "gs_forest.best_params_"
      ],
      "execution_count": null,
      "outputs": [
        {
          "output_type": "execute_result",
          "data": {
            "text/plain": [
              "{'criterion': 'entropy', 'max_samples': 10, 'n_estimators': 10}"
            ]
          },
          "metadata": {
            "tags": []
          },
          "execution_count": 52
        }
      ]
    },
    {
      "cell_type": "markdown",
      "metadata": {
        "id": "rOrniUIwzRK4"
      },
      "source": [
        "    Redes Neuronales"
      ]
    },
    {
      "cell_type": "code",
      "metadata": {
        "colab": {
          "base_uri": "https://localhost:8080/"
        },
        "id": "AFdttvyVMx6o",
        "outputId": "e07b405c-1f4a-4f50-f7bd-2a57f5534a08"
      },
      "source": [
        "#Se define la variable que se quiere analizar, con  los valores que se desean\n",
        "param_grid_redes = [{ 'activation':['relu', 'logistic'], 'hidden_layer_sizes':[2,3,5], 'max_iter':[10,100,10000]}]\n",
        "#Evaluación de los parametros efectuados anteriormente\n",
        "gs_redes = GridSearchCV(clf,param_grid_redes,cv=5)\n",
        "\n",
        "#Entrenamiento de las variables con los hiperparametros deseados\n",
        "gs_redes.fit(X_train[:2500],y_train[:2500])\n",
        "output.clear()\n",
        "\n",
        "#Nos da a conocer el mejor hiperparametro\n",
        "gs_redes.best_params_\n"
      ],
      "execution_count": null,
      "outputs": [
        {
          "output_type": "execute_result",
          "data": {
            "text/plain": [
              "{'activation': 'logistic', 'hidden_layer_sizes': 5, 'max_iter': 10000}"
            ]
          },
          "metadata": {
            "tags": []
          },
          "execution_count": 53
        }
      ]
    },
    {
      "cell_type": "markdown",
      "metadata": {
        "id": "hpBX_PJy0wYK"
      },
      "source": [
        "#**5. Evaluación final**\n",
        "\n"
      ]
    },
    {
      "cell_type": "markdown",
      "metadata": {
        "id": "MxjWjDghxsqh"
      },
      "source": [
        "    Regresión Logistica"
      ]
    },
    {
      "cell_type": "code",
      "metadata": {
        "id": "OcSSiib54aOP",
        "colab": {
          "base_uri": "https://localhost:8080/"
        },
        "outputId": "c06d6c73-a89a-4d4a-f054-fb433de5addc"
      },
      "source": [
        "#Se crea el clasificador de Regresión Logistica y se define las partes del KCROSS FOLD VALIDATION para evaluar.\n",
        "clfL_E = LogisticRegression(C=0.001, penalty= 'l2')\n",
        "cvsL_E = cross_val_score(clfL_E,X_train[:2500],y_train[:2500],cv=10)\n",
        "output.clear()\n",
        "#Entrenamos el sistema con el clasificador definido (clfL).\n",
        "logistica_fit = clfL_E.fit(X_train[:2500],y_train[:2500])\n",
        "output.clear()\n",
        "#Se imprimen datos estadisticos como la media y el estandar.\n",
        "print('La media para este clasificador es: ',np.mean(cvsL_E))\n",
        "print('La desviación estandar de este clasificador es:',np.std(cvsL_E))\n",
        "#Se imprime el cvs y se observan las iteraciones realizadas.\n",
        "print('Resultado de las 10 iteraciones realizadas: \\n',np.array(cvsL_E))"
      ],
      "execution_count": null,
      "outputs": [
        {
          "output_type": "stream",
          "text": [
            "La media para este clasificador es:  0.8652\n",
            "La desviación estandar de este clasificador es: 0.020321417273408877\n",
            "Resultado de las 10 iteraciones realizadas: \n",
            " [0.876 0.896 0.856 0.872 0.828 0.88  0.88  0.868 0.864 0.832]\n"
          ],
          "name": "stdout"
        }
      ]
    },
    {
      "cell_type": "markdown",
      "metadata": {
        "id": "pQNnswhCyyNr"
      },
      "source": [
        "    Vectores de soporte"
      ]
    },
    {
      "cell_type": "code",
      "metadata": {
        "colab": {
          "base_uri": "https://localhost:8080/"
        },
        "id": "yzvmVJqny1Oe",
        "outputId": "cd7f8a32-e7ea-4753-b7e2-ca53505e7c37"
      },
      "source": [
        "#Se crea el clasificador de Vectores de soporte y se define las partes del KCROSS FOLD VALIDATION para evaluar.\n",
        "svc_e = SVC(kernel ='rbf')\n",
        "cvs_svc_e = cross_val_score(svc_e,X_train[:2500],y_train[:2500],cv=10)\n",
        "#Se imprimen datos estadisticos como la media y el estandar.\n",
        "print('La media para este clasificador es: ',np.mean(cvs_svc_e))\n",
        "print('La desviación estandar de este clasificador es:',np.std(cvs_svc_e))\n",
        "#Se imprime el cvs y se observan las iteraciones realizadas.\n",
        "print('Resultado de las 10 iteraciones realizadas: \\n',cvs_svc_e)\n",
        "#Entrenamos el sistema con el clasificador definido.\n",
        "svc_fit = svc_e.fit(X_train[:2500],y_train[:2500])"
      ],
      "execution_count": null,
      "outputs": [
        {
          "output_type": "stream",
          "text": [
            "La media para este clasificador es:  0.9364000000000001\n",
            "La desviación estandar de este clasificador es: 0.013078226179417413\n",
            "Resultado de las 10 iteraciones realizadas: \n",
            " [0.948 0.944 0.92  0.928 0.92  0.952 0.96  0.928 0.932 0.932]\n"
          ],
          "name": "stdout"
        }
      ]
    },
    {
      "cell_type": "markdown",
      "metadata": {
        "id": "ZyzneYyw3tR0"
      },
      "source": [
        "    Random Forest"
      ]
    },
    {
      "cell_type": "code",
      "metadata": {
        "colab": {
          "base_uri": "https://localhost:8080/"
        },
        "id": "DJQIfdJl3sY7",
        "outputId": "0e32224b-0756-4d26-fb04-fd95a4d2cac7"
      },
      "source": [
        "#Se crea el clasificador de Random Forest y se define las partes del KCROSS FOLD VALIDATION para evaluar.\n",
        "forest_e = RandomForestClassifier(criterion='entropy', max_samples=10, n_estimators=10)\n",
        "cvs_forest_e = cross_val_score(forest_e,X_train[:2500],y_train[:2500],cv=10)\n",
        "#Se imprimen datos estadisticos como la media y el estandar.\n",
        "print('La media para este clasificador es: ',np.mean(cvs_forest_e))\n",
        "print('La desviación estandar de este clasificador es:',np.std(cvs_forest_e))\n",
        "#Se imprime el cvs y se observan las iteraciones realizadas.\n",
        "print('Resultado de las 10 iteraciones realizadas: \\n',cvs_forest_e)\n",
        "#Entrenamos el sistema con el clasificador definido.\n",
        "forest_fit = forest.fit(X_train[:2500],y_train[:2500])"
      ],
      "execution_count": null,
      "outputs": [
        {
          "output_type": "stream",
          "text": [
            "La media para este clasificador es:  0.30399999999999994\n",
            "La desviación estandar de este clasificador es: 0.017158088471621778\n",
            "Resultado de las 10 iteraciones realizadas: \n",
            " [0.296 0.32  0.34  0.312 0.304 0.288 0.292 0.276 0.312 0.3  ]\n"
          ],
          "name": "stdout"
        }
      ]
    },
    {
      "cell_type": "markdown",
      "metadata": {
        "id": "qJuZzrjU3weX"
      },
      "source": [
        "    Redes Neuronales"
      ]
    },
    {
      "cell_type": "code",
      "metadata": {
        "colab": {
          "base_uri": "https://localhost:8080/"
        },
        "id": "crrft4qa3r-A",
        "outputId": "f29c8cfd-649f-418b-9d3a-be8055c2bef5"
      },
      "source": [
        "#Se crea el clasificador de Redes neuronales y se define las partes del KCROSS FOLD VALIDATION para evaluar.\n",
        "clf_redes = MLPClassifier(activation= 'logistic', hidden_layer_sizes = 5, max_iter=10000)\n",
        "cvs_redes_e = cross_val_score(clf_redes,X_train[:2500],y_train[:2500],cv=10)\n",
        "#Se imprimen datos estadisticos como la media y el estandar.\n",
        "print('La media para este clasificador es: ',np.mean(cvs_redes_e))\n",
        "print('La desviación estandar de este clasificador es:',np.std(cvs_redes_e))\n",
        "#Se imprime el cvs y se observan las iteraciones realizadas.\n",
        "print('Resultado de las 10 iteraciones realizadas: \\n',cvs_redes_e)\n",
        "#Entrenamos el sistema con el clasificador definido.\n",
        "redes_fit = clf_redes.fit(X_train[:2500],y_train[:2500])"
      ],
      "execution_count": null,
      "outputs": [
        {
          "output_type": "stream",
          "text": [
            "La media para este clasificador es:  0.704\n",
            "La desviación estandar de este clasificador es: 0.06311893535223802\n",
            "Resultado de las 10 iteraciones realizadas: \n",
            " [0.684 0.784 0.568 0.628 0.672 0.732 0.756 0.756 0.72  0.74 ]\n"
          ],
          "name": "stdout"
        }
      ]
    },
    {
      "cell_type": "markdown",
      "metadata": {
        "id": "8MEEAYSR6-Mz"
      },
      "source": [
        "# **6. Analisis final**"
      ]
    },
    {
      "cell_type": "code",
      "metadata": {
        "id": "MkvbgmuZ8WgM"
      },
      "source": [
        "pipe_test = Pipeline([('scaler', MinMaxScaler())])\n",
        "entrenados_X_test = pipe_test.fit_transform(X_test)"
      ],
      "execution_count": null,
      "outputs": []
    },
    {
      "cell_type": "code",
      "metadata": {
        "id": "RWNsq7uc5lai",
        "colab": {
          "base_uri": "https://localhost:8080/"
        },
        "outputId": "b6f640d5-850c-403d-c3fc-6afe113e166d"
      },
      "source": [
        "model.fit(entrenados_X_test, y_test, validation_split=0.3, epochs=20) # Entrenando el modelo e imprimiendo métricas"
      ],
      "execution_count": null,
      "outputs": [
        {
          "output_type": "stream",
          "text": [
            "Epoch 1/20\n",
            "460/460 [==============================] - 2s 4ms/step - loss: 0.1273 - accuracy: 0.9697 - val_loss: 0.1098 - val_accuracy: 0.9727\n",
            "Epoch 2/20\n",
            "460/460 [==============================] - 2s 3ms/step - loss: 0.0321 - accuracy: 0.9896 - val_loss: 0.1131 - val_accuracy: 0.9740\n",
            "Epoch 3/20\n",
            "460/460 [==============================] - 2s 4ms/step - loss: 0.0133 - accuracy: 0.9961 - val_loss: 0.1149 - val_accuracy: 0.9748\n",
            "Epoch 4/20\n",
            "460/460 [==============================] - 2s 3ms/step - loss: 0.0052 - accuracy: 0.9990 - val_loss: 0.1168 - val_accuracy: 0.9775\n",
            "Epoch 5/20\n",
            "460/460 [==============================] - 2s 3ms/step - loss: 0.0021 - accuracy: 0.9998 - val_loss: 0.1251 - val_accuracy: 0.9762\n",
            "Epoch 6/20\n",
            "460/460 [==============================] - 2s 3ms/step - loss: 8.6602e-04 - accuracy: 1.0000 - val_loss: 0.1277 - val_accuracy: 0.9778\n",
            "Epoch 7/20\n",
            "460/460 [==============================] - 2s 4ms/step - loss: 0.0015 - accuracy: 0.9997 - val_loss: 0.1340 - val_accuracy: 0.9767\n",
            "Epoch 8/20\n",
            "460/460 [==============================] - 2s 3ms/step - loss: 0.0086 - accuracy: 0.9971 - val_loss: 0.2132 - val_accuracy: 0.9667\n",
            "Epoch 9/20\n",
            "460/460 [==============================] - 2s 3ms/step - loss: 0.0371 - accuracy: 0.9888 - val_loss: 0.1766 - val_accuracy: 0.9708\n",
            "Epoch 10/20\n",
            "460/460 [==============================] - 2s 3ms/step - loss: 0.0120 - accuracy: 0.9956 - val_loss: 0.1498 - val_accuracy: 0.9738\n",
            "Epoch 11/20\n",
            "460/460 [==============================] - 2s 3ms/step - loss: 0.0025 - accuracy: 0.9995 - val_loss: 0.1432 - val_accuracy: 0.9757\n",
            "Epoch 12/20\n",
            "460/460 [==============================] - 2s 3ms/step - loss: 8.8149e-04 - accuracy: 0.9999 - val_loss: 0.1534 - val_accuracy: 0.9757\n",
            "Epoch 13/20\n",
            "460/460 [==============================] - 2s 3ms/step - loss: 3.4614e-04 - accuracy: 0.9999 - val_loss: 0.1503 - val_accuracy: 0.9757\n",
            "Epoch 14/20\n",
            "460/460 [==============================] - 2s 4ms/step - loss: 1.0652e-04 - accuracy: 1.0000 - val_loss: 0.1510 - val_accuracy: 0.9754\n",
            "Epoch 15/20\n",
            "460/460 [==============================] - 2s 4ms/step - loss: 7.4333e-05 - accuracy: 1.0000 - val_loss: 0.1530 - val_accuracy: 0.9752\n",
            "Epoch 16/20\n",
            "460/460 [==============================] - 2s 3ms/step - loss: 5.6811e-05 - accuracy: 1.0000 - val_loss: 0.1550 - val_accuracy: 0.9751\n",
            "Epoch 17/20\n",
            "460/460 [==============================] - 2s 3ms/step - loss: 4.5011e-05 - accuracy: 1.0000 - val_loss: 0.1570 - val_accuracy: 0.9752\n",
            "Epoch 18/20\n",
            "460/460 [==============================] - 2s 4ms/step - loss: 3.5372e-05 - accuracy: 1.0000 - val_loss: 0.1594 - val_accuracy: 0.9751\n",
            "Epoch 19/20\n",
            "460/460 [==============================] - 2s 4ms/step - loss: 2.8294e-05 - accuracy: 1.0000 - val_loss: 0.1612 - val_accuracy: 0.9754\n",
            "Epoch 20/20\n",
            "460/460 [==============================] - 2s 3ms/step - loss: 2.2354e-05 - accuracy: 1.0000 - val_loss: 0.1638 - val_accuracy: 0.9751\n"
          ],
          "name": "stdout"
        },
        {
          "output_type": "execute_result",
          "data": {
            "text/plain": [
              "<tensorflow.python.keras.callbacks.History at 0x7f705575b4d0>"
            ]
          },
          "metadata": {
            "tags": []
          },
          "execution_count": 67
        }
      ]
    }
  ]
}